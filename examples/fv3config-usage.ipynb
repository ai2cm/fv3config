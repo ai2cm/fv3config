{
 "cells": [
  {
   "cell_type": "markdown",
   "metadata": {},
   "source": [
    "This notebooks demonstrates basic usage of the fv3config package by doing two sequential 1-hour runs. It assumes that fv3config has been installed and that a fv3gfs-python docker image is locally available."
   ]
  },
  {
   "cell_type": "code",
   "execution_count": 1,
   "metadata": {},
   "outputs": [],
   "source": [
    "import fv3config\n",
    "import yaml\n",
    "import os\n",
    "import shutil\n",
    "import copy"
   ]
  },
  {
   "cell_type": "code",
   "execution_count": 2,
   "metadata": {},
   "outputs": [],
   "source": [
    "model_image = 'us.gcr.io/vcm-ml/fv3gfs-python:latest'\n",
    "config_filename = 'c12_config.yml'"
   ]
  },
  {
   "cell_type": "markdown",
   "metadata": {},
   "source": [
    "#### Configuration dictionaries can be saved to and loaded from yaml"
   ]
  },
  {
   "cell_type": "code",
   "execution_count": 3,
   "metadata": {},
   "outputs": [
    {
     "data": {
      "text/plain": [
       "['data_table',\n",
       " 'diag_table',\n",
       " 'experiment_name',\n",
       " 'forcing',\n",
       " 'orographic_forcing',\n",
       " 'initial_conditions',\n",
       " 'namelist']"
      ]
     },
     "execution_count": 3,
     "metadata": {},
     "output_type": "execute_result"
    }
   ],
   "source": [
    "with open(config_filename, 'r') as f:\n",
    "    initial_config = yaml.safe_load(f)\n",
    "list(initial_config.keys())"
   ]
  },
  {
   "cell_type": "code",
   "execution_count": 4,
   "metadata": {},
   "outputs": [
    {
     "data": {
      "text/plain": [
       "{'atmos_nthreads': 1,\n",
       " 'calendar': 'julian',\n",
       " 'current_date': [2016, 8, 1, 0, 0, 0],\n",
       " 'days': 0,\n",
       " 'dt_atmos': 900,\n",
       " 'dt_ocean': 900,\n",
       " 'hours': 0,\n",
       " 'memuse_verbose': True,\n",
       " 'minutes': 30,\n",
       " 'months': 0,\n",
       " 'ncores_per_node': 32,\n",
       " 'seconds': 0,\n",
       " 'use_hyper_thread': True}"
      ]
     },
     "execution_count": 4,
     "metadata": {},
     "output_type": "execute_result"
    }
   ],
   "source": [
    "initial_config['namelist']['coupler_nml']"
   ]
  },
  {
   "cell_type": "code",
   "execution_count": 5,
   "metadata": {},
   "outputs": [
    {
     "data": {
      "text/plain": [
       "'default'"
      ]
     },
     "execution_count": 5,
     "metadata": {},
     "output_type": "execute_result"
    }
   ],
   "source": [
    "initial_config['diag_table']"
   ]
  },
  {
   "cell_type": "markdown",
   "metadata": {},
   "source": [
    "Built-in options for diag_table are 'default', 'grid_spec' and 'no_output'. You can specify your own custom diag_table by using an absolute path that points to a file on your system:"
   ]
  },
  {
   "cell_type": "code",
   "execution_count": 6,
   "metadata": {},
   "outputs": [],
   "source": [
    "initial_config['diag_table'] = os.path.abspath('diag_table_for_example_nb')"
   ]
  },
  {
   "cell_type": "markdown",
   "metadata": {},
   "source": [
    "#### Change length of run to one hour"
   ]
  },
  {
   "cell_type": "code",
   "execution_count": 7,
   "metadata": {},
   "outputs": [],
   "source": [
    "initial_config['namelist']['coupler_nml']['hours'] = 1\n",
    "initial_config['namelist']['coupler_nml']['minutes'] = 0"
   ]
  },
  {
   "cell_type": "markdown",
   "metadata": {},
   "source": [
    "#### Run model"
   ]
  },
  {
   "cell_type": "code",
   "execution_count": 8,
   "metadata": {},
   "outputs": [],
   "source": [
    "initial_rundir = './initial_rundir/'\n",
    "if os.path.isdir(initial_rundir):\n",
    "    shutil.rmtree(initial_rundir)\n",
    "os.makedirs(initial_rundir)\n",
    "fv3config.run_docker(initial_config, initial_rundir, docker_image=model_image)"
   ]
  },
  {
   "cell_type": "code",
   "execution_count": 9,
   "metadata": {},
   "outputs": [
    {
     "name": "stdout",
     "output_type": "stream",
     "text": [
      "['INPUT', 'RESTART', 'aerosol.dat', 'atmos_dt_atmos.tile1.nc', 'atmos_dt_atmos.tile2.nc', 'atmos_dt_atmos.tile3.nc', 'atmos_dt_atmos.tile4.nc', 'atmos_dt_atmos.tile5.nc', 'atmos_dt_atmos.tile6.nc', 'co2historicaldata_2010.txt', 'co2historicaldata_2011.txt', 'co2historicaldata_2012.txt', 'co2historicaldata_2013.txt', 'co2historicaldata_2014.txt', 'co2historicaldata_2015.txt', 'co2historicaldata_2016.txt', 'data_table', 'diag_table', 'field_table', 'fv3config.yml', 'global_o3prdlos.f77', 'grb', 'input.nml', 'logfile.000000.out', 'sfc_emissivity_idx.txt', 'solarconstant_noaa_an.txt', 'stderr.log', 'stdout.log', 'time_stamp.out']\n",
      "['coupler.res', 'fv_core.res.nc', 'fv_core.res.tile1.nc', 'fv_core.res.tile2.nc', 'fv_core.res.tile3.nc', 'fv_core.res.tile4.nc', 'fv_core.res.tile5.nc', 'fv_core.res.tile6.nc', 'fv_srf_wnd.res.tile1.nc', 'fv_srf_wnd.res.tile2.nc', 'fv_srf_wnd.res.tile3.nc', 'fv_srf_wnd.res.tile4.nc', 'fv_srf_wnd.res.tile5.nc', 'fv_srf_wnd.res.tile6.nc', 'fv_tracer.res.tile1.nc', 'fv_tracer.res.tile2.nc', 'fv_tracer.res.tile3.nc', 'fv_tracer.res.tile4.nc', 'fv_tracer.res.tile5.nc', 'fv_tracer.res.tile6.nc', 'phy_data.tile1.nc', 'phy_data.tile2.nc', 'phy_data.tile3.nc', 'phy_data.tile4.nc', 'phy_data.tile5.nc', 'phy_data.tile6.nc', 'sfc_data.tile1.nc', 'sfc_data.tile2.nc', 'sfc_data.tile3.nc', 'sfc_data.tile4.nc', 'sfc_data.tile5.nc', 'sfc_data.tile6.nc']\n"
     ]
    }
   ],
   "source": [
    "print(sorted(os.listdir(initial_rundir)))\n",
    "print(sorted(os.listdir(os.path.join(initial_rundir, 'RESTART'))))"
   ]
  },
  {
   "cell_type": "markdown",
   "metadata": {},
   "source": [
    "#### Configure a run to initialize from end of previous run"
   ]
  },
  {
   "cell_type": "code",
   "execution_count": 10,
   "metadata": {},
   "outputs": [],
   "source": [
    "ic_directory = os.path.abspath(os.path.join(initial_rundir, 'RESTART'))\n",
    "restart_config = copy.deepcopy(initial_config)\n",
    "restart_config['initial_conditions'] = ic_directory\n",
    "restart_config['namelist']['fv_core_nml']['warm_start'] = True\n",
    "restart_config['namelist']['fv_core_nml']['external_ic'] = False\n",
    "restart_config['namelist']['fv_core_nml']['nggps_ic'] = False\n",
    "restart_config['namelist']['fv_core_nml']['make_nh'] = False\n",
    "restart_config['namelist']['fv_core_nml']['mountain'] = True\n",
    "restart_config['namelist']['fv_core_nml']['na_init'] = 0\n",
    "\n",
    "restart_rundir = './restart_rundir'\n",
    "if os.path.isdir(restart_rundir):\n",
    "    shutil.rmtree(restart_rundir)\n",
    "os.makedirs(restart_rundir)\n",
    "fv3config.run_docker(restart_config, restart_rundir, docker_image=model_image)"
   ]
  }
 ],
 "metadata": {
  "kernelspec": {
   "display_name": "Python 3",
   "language": "python",
   "name": "python3"
  },
  "language_info": {
   "codemirror_mode": {
    "name": "ipython",
    "version": 3
   },
   "file_extension": ".py",
   "mimetype": "text/x-python",
   "name": "python",
   "nbconvert_exporter": "python",
   "pygments_lexer": "ipython3",
   "version": "3.7.4"
  }
 },
 "nbformat": 4,
 "nbformat_minor": 4
}
